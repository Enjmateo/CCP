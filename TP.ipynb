{
 "cells": [
  {
   "cell_type": "code",
   "execution_count": 1,
   "metadata": {},
   "outputs": [],
   "source": [
    "from docplex.cp.model import *\n",
    "from docplex.cp.config import get_default"
   ]
  },
  {
   "cell_type": "code",
   "execution_count": null,
   "metadata": {},
   "outputs": [],
   "source": [
    "H = ['f1', 'f2', 'f3', 'f4']\n",
    "F = ['h1', 'h2', 'h3', 'h4']\n",
    "\n",
    "L = {\n",
    "    \"f1\":['h2', 'h1', 'h3', 'h4'],\n",
    "    \"f2\":['h3', 'h4', 'h1', 'h2'],\n",
    "    \"f3\":['h1', 'h3', 'h4', 'h2'],\n",
    "    \"f4\":['h2', 'h1', 'h3', 'h4'],\n",
    "\n",
    "    \"h1\":['f2', 'f3', 'f1', 'f4'],\n",
    "    \"h2\":['f4', 'f1', 'f3', 'f2'],\n",
    "    \"h3\":['f2', 'f4', 'f1', 'f3'],\n",
    "    \"h4\":['f3', 'f1', 'f4', 'f2']\n",
    "}\n",
    "\n",
    "mdl = CpoModel()\n"
   ]
  }
 ],
 "metadata": {
  "kernelspec": {
   "display_name": "cplex",
   "language": "python",
   "name": "python3"
  },
  "language_info": {
   "codemirror_mode": {
    "name": "ipython",
    "version": 3
   },
   "file_extension": ".py",
   "mimetype": "text/x-python",
   "name": "python",
   "nbconvert_exporter": "python",
   "pygments_lexer": "ipython3",
   "version": "3.7.13"
  },
  "orig_nbformat": 4,
  "vscode": {
   "interpreter": {
    "hash": "43f6ff27b895b301ac2494929074ee441da5fd860e28ab36c108cd5fabd96163"
   }
  }
 },
 "nbformat": 4,
 "nbformat_minor": 2
}
