{
 "cells": [
  {
   "cell_type": "code",
   "execution_count": 1,
   "metadata": {},
   "outputs": [],
   "source": [
    "from docplex.cp.model import *\n",
    "from docplex.cp.config import get_default"
   ]
  },
  {
   "cell_type": "code",
   "execution_count": 2,
   "metadata": {},
   "outputs": [],
   "source": [
    "from config import setup\n",
    "setup()"
   ]
  },
  {
   "cell_type": "code",
   "execution_count": 3,
   "metadata": {},
   "outputs": [],
   "source": [
    "n = 4\n",
    "\n",
    "F = ['f1', 'f2', 'f3', 'f4']\n",
    "H = ['h1', 'h2', 'h3', 'h4']\n",
    "\n",
    "L = {\n",
    "    \"f1\":['h2', 'h1', 'h3', 'h4'],\n",
    "    \"f2\":['h3', 'h4', 'h1', 'h2'],\n",
    "    \"f3\":['h1', 'h3', 'h4', 'h2'],\n",
    "    \"f4\":['h2', 'h1', 'h3', 'h4'],\n",
    "\n",
    "    \"h1\":['f2', 'f3', 'f1', 'f4'],\n",
    "    \"h2\":['f4', 'f1', 'f3', 'f2'],\n",
    "    \"h3\":['f2', 'f4', 'f1', 'f3'],\n",
    "    \"h4\":['f3', 'f1', 'f4', 'f2']\n",
    "}\n",
    "\n",
    "mdl = CpoModel(name=\"Mariages\")"
   ]
  },
  {
   "cell_type": "code",
   "execution_count": 4,
   "metadata": {},
   "outputs": [
    {
     "data": {
      "text/plain": [
       "{('h1', 'f1'): 3,\n",
       " ('h1', 'f2'): 2,\n",
       " ('h1', 'f3'): 1,\n",
       " ('h1', 'f4'): 4,\n",
       " ('h2', 'f1'): 1,\n",
       " ('h2', 'f2'): 6,\n",
       " ('h2', 'f3'): 5,\n",
       " ('h2', 'f4'): 0,\n",
       " ('h3', 'f1'): 4,\n",
       " ('h3', 'f2'): 0,\n",
       " ('h3', 'f3'): 4,\n",
       " ('h3', 'f4'): 3,\n",
       " ('h4', 'f1'): 4,\n",
       " ('h4', 'f2'): 4,\n",
       " ('h4', 'f3'): 2,\n",
       " ('h4', 'f4'): 5}"
      ]
     },
     "execution_count": 4,
     "metadata": {},
     "output_type": "execute_result"
    }
   ],
   "source": [
    "#Lpos[h,f] postition de f dans L(h) + position de h dans L(h)\n",
    "LPos = {}\n",
    "for h in H:\n",
    "    for f in F:\n",
    "        LPos[h,f]=L[h].index(f)+L[f].index(h)\n",
    "LPos"
   ]
  },
  {
   "cell_type": "code",
   "execution_count": 5,
   "metadata": {},
   "outputs": [],
   "source": [
    "#x[h,f] mariage entre h et f\n",
    "x = {}\n",
    "for h in H:\n",
    "    for f in F:\n",
    "        x[h,f]=mdl.binary_var(name=\"x_\" + h + \"_\" + f)\n",
    "\n",
    "#y[i] cout du marriage de i (somme des couts du mariage pour les 2 partis) \n",
    "y = {}\n",
    "for h in H:\n",
    "    y[h]=mdl.integer_var(0,2*(n-1),name=\"y_\"+h)\n",
    "\n"
   ]
  },
  {
   "cell_type": "code",
   "execution_count": 6,
   "metadata": {},
   "outputs": [],
   "source": [
    "#Ajout des contraintes\n",
    "\n",
    "#Contrainte de monogamie\n",
    "for h in H:\n",
    "    mdl.add(sum([x[h,f] for f in F])==1)\n",
    "for f in F:\n",
    "    mdl.add(sum([x[h,f] for h in H])==1)\n",
    "\n",
    "\n",
    "#Valeur de y:\n",
    "for h in H:\n",
    "    mdl.add(y[h]==sum([(x[h,f]*LPos[h,f]) for f in F]))\n",
    "\n",
    "#On cherches à minimiser les couts des marriages\n",
    "mdl.add(minimize(sum([y[h] for h in H])))"
   ]
  },
  {
   "cell_type": "code",
   "execution_count": 7,
   "metadata": {},
   "outputs": [
    {
     "name": "stdout",
     "output_type": "stream",
     "text": [
      " ! ----------------------------------------------------------------------------\n",
      " ! Minimization problem - 20 variables, 12 constraints\n",
      " ! Workers              = 1\n",
      " ! Presolve             = Off\n",
      " ! Initial process time : 0.00s (0.00s extraction + 0.00s propagation)\n",
      " !  . Log search space  : 27.2 (before), 27.2 (after)\n",
      " !  . Memory usage      : 300.4 kB (before), 300.4 kB (after)\n",
      " ! Using sequential search.\n",
      " ! ----------------------------------------------------------------------------\n",
      " !          Best Branches  Non-fixed            Branch decision\n",
      "                        0         20                 -\n",
      " + New bound is 0\n",
      "                        0         20                 -\n",
      " + New bound is 4\n",
      "                        8         11        F     0 != x_h1_f4\n",
      " + New bound is 5\n",
      " *            16       14  0.00s               (gap is 68.75%)\n",
      " *             9       17  0.00s               (gap is 44.44%)\n",
      " *             5       24  0.00s               (gap is 0.00%)\n",
      " ! ----------------------------------------------------------------------------\n",
      " ! Search completed, 3 solutions found.\n",
      " ! Best objective         : 5 (optimal - effective tol. is 0)\n",
      " ! Best bound             : 5\n",
      " ! ----------------------------------------------------------------------------\n",
      " ! Number of branches     : 24\n",
      " ! Number of fails        : 15\n",
      " ! Total memory usage     : 657.0 kB (613.6 kB CP Optimizer + 43.4 kB Concert)\n",
      " ! Time spent in solve    : 0.00s (0.00s engine + 0.00s extraction)\n",
      " ! Search speed (br. / s) : 2400.0\n",
      " ! ----------------------------------------------------------------------------\n",
      "-------------------------------------------------------------------------------\n",
      "Model constraints: 12, variables: integer: 20, interval: 0, sequence: 0\n",
      "Solve status: Optimal\n",
      "Search status: SearchCompleted, stop cause: SearchHasNotBeenStopped\n",
      "Solve time: 0 sec\n",
      "-------------------------------------------------------------------------------\n",
      "Objective values: (5,), bounds: (5,), gaps: (0,)\n",
      "Variables:\n",
      "   x_h1_f1 = 1\n",
      "   x_h1_f2 = 0\n",
      "   x_h1_f3 = 0\n",
      "   x_h1_f4 = 0\n",
      "   x_h2_f1 = 0\n",
      "   x_h2_f2 = 0\n",
      "   x_h2_f3 = 0\n",
      "   x_h2_f4 = 1\n",
      "   x_h3_f1 = 0\n",
      "   x_h3_f2 = 1\n",
      "   x_h3_f3 = 0\n",
      "   x_h3_f4 = 0\n",
      "   x_h4_f1 = 0\n",
      "   x_h4_f2 = 0\n",
      "   x_h4_f3 = 1\n",
      "   x_h4_f4 = 0\n",
      "   y_h1 = 3\n",
      "   y_h2 = 0\n",
      "   y_h3 = 0\n",
      "   y_h4 = 2\n"
     ]
    }
   ],
   "source": [
    "solution = mdl.solve()\n",
    "solution.print_solution()"
   ]
  },
  {
   "cell_type": "code",
   "execution_count": 8,
   "metadata": {},
   "outputs": [
    {
     "name": "stdout",
     "output_type": "stream",
     "text": [
      "Mariage entre  h1  et  f1  (Cout =  3 )\n",
      "Mariage entre  h2  et  f4  (Cout =  0 )\n",
      "Mariage entre  h3  et  f2  (Cout =  0 )\n",
      "Mariage entre  h4  et  f3  (Cout =  2 )\n"
     ]
    }
   ],
   "source": [
    "#Affichage des de la solution:\n",
    "for h in H:\n",
    "    for f in F:\n",
    "        if(solution[x[h,f]]==1):\n",
    "            print(\"Mariage entre \",h,\" et \",f,\" (Cout = \",LPos[h,f],\")\")\n"
   ]
  },
  {
   "cell_type": "code",
   "execution_count": null,
   "metadata": {},
   "outputs": [],
   "source": []
  }
 ],
 "metadata": {
  "kernelspec": {
   "display_name": "cplex",
   "language": "python",
   "name": "python3"
  },
  "language_info": {
   "codemirror_mode": {
    "name": "ipython",
    "version": 3
   },
   "file_extension": ".py",
   "mimetype": "text/x-python",
   "name": "python",
   "nbconvert_exporter": "python",
   "pygments_lexer": "ipython3",
   "version": "3.7.13 (default, Mar 29 2022, 02:18:16) \n[GCC 7.5.0]"
  },
  "orig_nbformat": 4,
  "vscode": {
   "interpreter": {
    "hash": "43f6ff27b895b301ac2494929074ee441da5fd860e28ab36c108cd5fabd96163"
   }
  }
 },
 "nbformat": 4,
 "nbformat_minor": 2
}
