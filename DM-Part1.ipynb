{
 "cells": [
  {
   "cell_type": "code",
   "execution_count": 11,
   "metadata": {},
   "outputs": [],
   "source": [
    "from docplex.cp.model import *\n",
    "from docplex.cp.config import get_default"
   ]
  },
  {
   "cell_type": "code",
   "execution_count": 12,
   "metadata": {},
   "outputs": [],
   "source": [
    "from config import setup\n",
    "setup()"
   ]
  },
  {
   "cell_type": "code",
   "execution_count": 13,
   "metadata": {},
   "outputs": [],
   "source": [
    "n = 4\n",
    "\n",
    "F = ['f1', 'f2', 'f3', 'f4']\n",
    "H = ['h1', 'h2', 'h3', 'h4']\n",
    "\n",
    "L = {\n",
    "    \"f1\":['h2', 'h1', 'h3', 'h4'],\n",
    "    \"f2\":['h3', 'h4', 'h1', 'h2'],\n",
    "    \"f3\":['h1', 'h3', 'h4', 'h2'],\n",
    "    \"f4\":['h2', 'h1', 'h3', 'h4'],\n",
    "\n",
    "    \"h1\":['f2', 'f3', 'f1', 'f4'],\n",
    "    \"h2\":['f4', 'f1', 'f3', 'f2'],\n",
    "    \"h3\":['f2', 'f4', 'f1', 'f3'],\n",
    "    \"h4\":['f3', 'f1', 'f4', 'f2']\n",
    "}\n"
   ]
  },
  {
   "cell_type": "code",
   "execution_count": 14,
   "metadata": {},
   "outputs": [],
   "source": [
    "mdl = CpoModel(name=\"Mariages\")\n",
    "\n",
    "#Lpos[h,f] postition de f dans L(h) + position de h dans L(h)\n",
    "LPos = {}\n",
    "for h in H:\n",
    "    for f in F:\n",
    "        LPos[h,f]=L[h].index(f)\n",
    "        LPos[f,h]=L[f].index(h)\n"
   ]
  },
  {
   "cell_type": "code",
   "execution_count": 15,
   "metadata": {},
   "outputs": [],
   "source": [
    "#x[h,f] mariage entre h et f\n",
    "x = {}\n",
    "z = {}\n",
    "for h in H:\n",
    "    for f in F:\n",
    "        x[h,f]=mdl.binary_var(name=\"x_\" + h + \"_\" + f)\n",
    "        z[h,f]=mdl.binary_var(name=\"z_\" + h + \"_\" + f)\n",
    "\n",
    "#y[i] cout du marriage de i (somme des couts du mariage pour les 2 partis) \n",
    "y = {}\n",
    "for i in H+F:\n",
    "    y[i]=mdl.integer_var(0,2*(n-1),name=\"y_\"+i)\n",
    "\n",
    "\n"
   ]
  },
  {
   "cell_type": "code",
   "execution_count": 16,
   "metadata": {},
   "outputs": [],
   "source": [
    "#Ajout des contraintes\n",
    "\n",
    "#Contrainte de monogamie\n",
    "for h in H:\n",
    "    mdl.add(sum([x[h,f] for f in F])==1)\n",
    "for f in F:\n",
    "    mdl.add(sum([x[h,f] for h in H])==1)\n",
    "\n",
    "\n",
    "#Valeur de y:\n",
    "for h in H:\n",
    "    mdl.add(y[h]==sum([(x[h,f]*LPos[h,f]) for f in F]))\n",
    "for f in F:\n",
    "    mdl.add(y[f]==sum([(x[h,f]*LPos[f,h]) for h in H]))\n",
    "\n",
    "#On cherches à minimiser les couts des marriages\n",
    "#dl.add(minimize(max([y[i] for i in H+F])))"
   ]
  },
  {
   "cell_type": "code",
   "execution_count": 17,
   "metadata": {},
   "outputs": [],
   "source": [
    "#Couple bloquant =\n",
    "#si (h,f) est un couple bloquant si \n",
    "#   - le partenaire actuel de h et en plus haute postion de preference que f\n",
    "#   - et le partenaire actuel de f et en plus haute postion de preference que h\n",
    "for h in H:\n",
    "    for f in F:\n",
    "        mdl.add(mdl.if_then((y[h]>LPos[h,f]) & (y[f]>LPos[f,h]), z[h,f] == 1))\n",
    "\n",
    "mdl.add(sum(z[h,f] for h in H for f in F)==0)"
   ]
  },
  {
   "cell_type": "code",
   "execution_count": 18,
   "metadata": {},
   "outputs": [],
   "source": [
    "lsol = mdl.start_search(SearchType=\"DepthFirst\",trace_log=False)\n"
   ]
  },
  {
   "cell_type": "code",
   "execution_count": 19,
   "metadata": {},
   "outputs": [
    {
     "name": "stdout",
     "output_type": "stream",
     "text": [
      "\n",
      " NOUVELLE SOLUTION :\n",
      "Mariage entre  h1  et  f3  (Couts =  1 0 )\n",
      "Mariage entre  h2  et  f4  (Couts =  0 0 )\n",
      "Mariage entre  h3  et  f2  (Couts =  0 0 )\n",
      "Mariage entre  h4  et  f1  (Couts =  1 3 )\n"
     ]
    }
   ],
   "source": [
    "#Affichage des solutions:\n",
    "for solution in lsol:\n",
    "    print(\"\\n NOUVELLE SOLUTION :\")\n",
    "    for h in H:\n",
    "        for f in F:\n",
    "            if(solution[x[h,f]]==1):\n",
    "                print(\"Mariage entre \",h,\" et \",f,\" (Couts = \",LPos[h,f],LPos[f,h],\")\")\n"
   ]
  },
  {
   "cell_type": "code",
   "execution_count": null,
   "metadata": {},
   "outputs": [],
   "source": []
  }
 ],
 "metadata": {
  "kernelspec": {
   "display_name": "cplex",
   "language": "python",
   "name": "python3"
  },
  "language_info": {
   "codemirror_mode": {
    "name": "ipython",
    "version": 3
   },
   "file_extension": ".py",
   "mimetype": "text/x-python",
   "name": "python",
   "nbconvert_exporter": "python",
   "pygments_lexer": "ipython3",
   "version": "3.7.13"
  },
  "orig_nbformat": 4,
  "vscode": {
   "interpreter": {
    "hash": "43f6ff27b895b301ac2494929074ee441da5fd860e28ab36c108cd5fabd96163"
   }
  }
 },
 "nbformat": 4,
 "nbformat_minor": 2
}
