{
 "cells": [
  {
   "cell_type": "code",
   "execution_count": 33,
   "metadata": {},
   "outputs": [],
   "source": [
    "from docplex.cp.model import *\n",
    "from docplex.cp.config import get_default"
   ]
  },
  {
   "cell_type": "code",
   "execution_count": 34,
   "metadata": {},
   "outputs": [],
   "source": [
    "from config import setup\n",
    "setup()"
   ]
  },
  {
   "cell_type": "code",
   "execution_count": 35,
   "metadata": {},
   "outputs": [],
   "source": [
    "n = 4\n",
    "\n",
    "F = ['f1', 'f2', 'f3', 'f4']\n",
    "H = ['h1', 'h2', 'h3', 'h4']\n",
    "\n",
    "L = {\n",
    "    \"f1\":['h2', 'h1', 'h3', 'h4'],\n",
    "    \"f2\":['h3', 'h4', 'h1', 'h2'],\n",
    "    \"f3\":['h1', 'h3', 'h4', 'h2'],\n",
    "    \"f4\":['h2', 'h1', 'h3', 'h4'],\n",
    "\n",
    "    \"h1\":['f2', 'f3', 'f1', 'f4'],\n",
    "    \"h2\":['f4', 'f1', 'f3', 'f2'],\n",
    "    \"h3\":['f2', 'f4', 'f1', 'f3'],\n",
    "    \"h4\":['f3', 'f1', 'f4', 'f2']\n",
    "}\n",
    "\n",
    "mdl = CpoModel(name=\"Mariages\")"
   ]
  },
  {
   "cell_type": "code",
   "execution_count": 36,
   "metadata": {},
   "outputs": [],
   "source": [
    "#Lpos[h,f] postition de f dans L(h) + position de h dans L(h)\n",
    "LPos = {}\n",
    "for h in H:\n",
    "    for f in F:\n",
    "        LPos[h,f]=L[h].index(f)\n",
    "        LPos[f,h]=L[f].index(h)\n"
   ]
  },
  {
   "cell_type": "code",
   "execution_count": 37,
   "metadata": {},
   "outputs": [],
   "source": [
    "#x[h,f] mariage entre h et f\n",
    "x = {}\n",
    "for h in H:\n",
    "    for f in F:\n",
    "        x[h,f]=mdl.binary_var(name=\"x_\" + h + \"_\" + f)\n",
    "\n",
    "#y[i] cout du marriage de i (somme des couts du mariage pour les 2 partis) \n",
    "y = {}\n",
    "for i in H+F:\n",
    "    y[i]=mdl.integer_var(0,2*(n-1),name=\"y_\"+i)\n",
    "\n"
   ]
  },
  {
   "cell_type": "code",
   "execution_count": 38,
   "metadata": {},
   "outputs": [],
   "source": [
    "#Ajout des contraintes\n",
    "\n",
    "#Contrainte de monogamie\n",
    "for h in H:\n",
    "    mdl.add(sum([x[h,f] for f in F])==1)\n",
    "for f in F:\n",
    "    mdl.add(sum([x[h,f] for h in H])==1)\n",
    "\n",
    "\n",
    "#Valeur de y:\n",
    "for h in H:\n",
    "    mdl.add(y[h]==sum([(x[h,f]*LPos[h,f]) for f in F]))\n",
    "for f in F:\n",
    "    mdl.add(y[f]==sum([(x[h,f]*LPos[f,h]) for h in H]))\n",
    "\n",
    "#On cherches à minimiser les couts des marriages\n",
    "mdl.add(minimize(max([y[i] for i in H+F])))"
   ]
  },
  {
   "cell_type": "code",
   "execution_count": 39,
   "metadata": {},
   "outputs": [
    {
     "name": "stdout",
     "output_type": "stream",
     "text": [
      " ! ----------------------------------------------------------------------------\n",
      " ! Minimization problem - 24 variables, 16 constraints\n",
      " ! Workers              = 1\n",
      " ! Presolve             = Off\n",
      " ! Initial process time : 0.00s (0.00s extraction + 0.00s propagation)\n",
      " !  . Log search space  : 38.5 (before), 38.5 (after)\n",
      " !  . Memory usage      : 300.8 kB (before), 300.8 kB (after)\n",
      " ! Using sequential search.\n",
      " ! ----------------------------------------------------------------------------\n",
      " !          Best Branches  Non-fixed            Branch decision\n",
      "                        0         24                 -\n",
      " + New bound is 0\n",
      "                        0         24                 -\n",
      " + New bound is 2\n",
      " *             2        1  0.00s               (gap is 0.00%)\n",
      " ! ----------------------------------------------------------------------------\n",
      " ! Search completed, 1 solution found.\n",
      " ! Best objective         : 2 (optimal - effective tol. is 0)\n",
      " ! Best bound             : 2\n",
      " ! ----------------------------------------------------------------------------\n",
      " ! Number of branches     : 1\n",
      " ! Number of fails        : 5\n",
      " ! Total memory usage     : 669.8 kB (626.1 kB CP Optimizer + 43.7 kB Concert)\n",
      " ! Time spent in solve    : 0.00s (0.00s engine + 0.00s extraction)\n",
      " ! Search speed (br. / s) : 100.0\n",
      " ! ----------------------------------------------------------------------------\n",
      "-------------------------------------------------------------------------------\n",
      "Model constraints: 16, variables: integer: 24, interval: 0, sequence: 0\n",
      "Solve status: Optimal\n",
      "Search status: SearchCompleted, stop cause: SearchHasNotBeenStopped\n",
      "Solve time: 0 sec\n",
      "-------------------------------------------------------------------------------\n",
      "Objective values: (2,), bounds: (2,), gaps: (0,)\n",
      "Variables:\n",
      "   x_h1_f1 = 1\n",
      "   x_h1_f2 = 0\n",
      "   x_h1_f3 = 0\n",
      "   x_h1_f4 = 0\n",
      "   x_h2_f1 = 0\n",
      "   x_h2_f2 = 0\n",
      "   x_h2_f3 = 0\n",
      "   x_h2_f4 = 1\n",
      "   x_h3_f1 = 0\n",
      "   x_h3_f2 = 1\n",
      "   x_h3_f3 = 0\n",
      "   x_h3_f4 = 0\n",
      "   x_h4_f1 = 0\n",
      "   x_h4_f2 = 0\n",
      "   x_h4_f3 = 1\n",
      "   x_h4_f4 = 0\n",
      "   y_f1 = 1\n",
      "   y_f2 = 0\n",
      "   y_f3 = 2\n",
      "   y_f4 = 0\n",
      "   y_h1 = 2\n",
      "   y_h2 = 0\n",
      "   y_h3 = 0\n",
      "   y_h4 = 0\n"
     ]
    }
   ],
   "source": [
    "solution = mdl.solve()\n",
    "solution.print_solution()"
   ]
  },
  {
   "cell_type": "code",
   "execution_count": 40,
   "metadata": {},
   "outputs": [
    {
     "name": "stdout",
     "output_type": "stream",
     "text": [
      "Mariage entre  h1  et  f1  (Couts =  2 1 )\n",
      "Mariage entre  h2  et  f4  (Couts =  0 0 )\n",
      "Mariage entre  h3  et  f2  (Couts =  0 0 )\n",
      "Mariage entre  h4  et  f3  (Couts =  0 2 )\n"
     ]
    }
   ],
   "source": [
    "#Affichage des de la solution:\n",
    "for h in H:\n",
    "    for f in F:\n",
    "        if(solution[x[h,f]]==1):\n",
    "            print(\"Mariage entre \",h,\" et \",f,\" (Couts = \",LPos[h,f],LPos[f,h],\")\")\n"
   ]
  },
  {
   "cell_type": "code",
   "execution_count": null,
   "metadata": {},
   "outputs": [],
   "source": []
  }
 ],
 "metadata": {
  "kernelspec": {
   "display_name": "cplex",
   "language": "python",
   "name": "python3"
  },
  "language_info": {
   "codemirror_mode": {
    "name": "ipython",
    "version": 3
   },
   "file_extension": ".py",
   "mimetype": "text/x-python",
   "name": "python",
   "nbconvert_exporter": "python",
   "pygments_lexer": "ipython3",
   "version": "3.7.13"
  },
  "orig_nbformat": 4,
  "vscode": {
   "interpreter": {
    "hash": "43f6ff27b895b301ac2494929074ee441da5fd860e28ab36c108cd5fabd96163"
   }
  }
 },
 "nbformat": 4,
 "nbformat_minor": 2
}
