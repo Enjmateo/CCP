{
 "cells": [
  {
   "cell_type": "code",
   "execution_count": 11,
   "metadata": {},
   "outputs": [],
   "source": [
    "from docplex.cp.model import *\n",
    "from docplex.cp.config import get_default"
   ]
  },
  {
   "cell_type": "code",
   "execution_count": 12,
   "metadata": {},
   "outputs": [],
   "source": [
    "from config import setup\n",
    "setup()"
   ]
  },
  {
   "cell_type": "code",
   "execution_count": 13,
   "metadata": {},
   "outputs": [],
   "source": [
    "n = 6\n",
    "\n",
    "F = ['f1', 'f2', 'f3', 'f4', 'f5', 'f6']\n",
    "H = ['h1', 'h2', 'h3', 'h4', 'h5', 'h6']\n",
    "L= {}\n",
    "pref_h = [\n",
    "    [1,3,6,2,4,5],\n",
    "    [4,6,1,2,5,3],\n",
    "    [1,4,5,3,6,2],\n",
    "    [6,5,3,4,2,1],\n",
    "    [2,3,1,4,5,6],\n",
    "    [3,1,2,6,5,4],\n",
    "]\n",
    "pref_f = [\n",
    "    [1,5,6,3,2,4],\n",
    "    [2,4,6,1,3,5],\n",
    "    [4,3,6,2,5,1],\n",
    "    [1,3,5,4,2,6],\n",
    "    [3,2,6,1,4,5],\n",
    "    [5,1,3,6,4,2],\n",
    "]\n",
    "for i, hlist in enumerate(pref_h):\n",
    "    L['h'+str(i+1)]=['f'+str(j) for j in hlist]\n",
    "for i, flist in enumerate(pref_f):\n",
    "    L['f'+str(i+1)]=['h'+str(j) for j in flist]\n",
    "\n",
    "\n",
    "mdl = CpoModel(name=\"Mariages\")\n"
   ]
  },
  {
   "cell_type": "code",
   "execution_count": 14,
   "metadata": {},
   "outputs": [],
   "source": [
    "#Lpos[h,f] postition de f dans L(h) + position de h dans L(h)\n",
    "LPos = {}\n",
    "for h in H:\n",
    "    for f in F:\n",
    "        LPos[h,f]=L[h].index(f)\n",
    "        LPos[f,h]=L[f].index(h)\n"
   ]
  },
  {
   "cell_type": "code",
   "execution_count": 15,
   "metadata": {},
   "outputs": [],
   "source": [
    "#x[h,f] mariage entre h et f\n",
    "x = {}\n",
    "z = {}\n",
    "for h in H:\n",
    "    for f in F:\n",
    "        x[h,f]=mdl.binary_var(name=\"x_\" + h + \"_\" + f)\n",
    "        z[h,f]=mdl.binary_var(name=\"z_\" + h + \"_\" + f)\n",
    "\n",
    "#y[i] cout du marriage de i (somme des couts du mariage pour les 2 partis) \n",
    "D = {}\n",
    "for i in H+F:\n",
    "    D[i]=mdl.integer_var(0,n-1,name=\"D_\"+i)\n",
    "\n",
    "\n",
    "\n"
   ]
  },
  {
   "cell_type": "code",
   "execution_count": 16,
   "metadata": {},
   "outputs": [],
   "source": [
    "#Ajout des contraintes\n",
    "\n",
    "#Contrainte de monogamie\n",
    "for h in H:\n",
    "    mdl.add(sum([x[h,f] for f in F])==1)\n",
    "for f in F:\n",
    "    mdl.add(sum([x[h,f] for h in H])==1)\n",
    "\n",
    "\n",
    "#Valeur de y (Position du partenaire dans le classement):\n",
    "for h in H:\n",
    "    mdl.add(D[h]==sum([(x[h,f]*LPos[h,f]) for f in F]))\n",
    "for f in F:\n",
    "    mdl.add(D[f]==sum([(x[h,f]*LPos[f,h]) for h in H]))"
   ]
  },
  {
   "cell_type": "code",
   "execution_count": 17,
   "metadata": {},
   "outputs": [],
   "source": [
    "#Couple bloquant =\n",
    "#si (h,f) est un couple bloquant si \n",
    "#   - le partenaire actuel de h et en plus haute postion de preference que f\n",
    "#   - et le partenaire actuel de f et en plus haute postion de preference que h\n",
    "for h in H:\n",
    "    for f in F:\n",
    "        mdl.add((D[h]>LPos[h,f]) & (D[f]>LPos[f,h]) == false())\n",
    "#mdl.add(sum(z[h,f] for h in H for f in F)==0)"
   ]
  },
  {
   "cell_type": "code",
   "execution_count": 21,
   "metadata": {},
   "outputs": [],
   "source": [
    "DH = mdl.integer_var(name=\"DH\")\n",
    "DF = mdl.integer_var(name=\"DF\")\n",
    "\n",
    "mdl.add(DH==max([D[h] for h in H]))\n",
    "mdl.add(DF==max([D[f] for f in F]))\n",
    "mdl.add(minimize(abs(DH-DF)))\n"
   ]
  },
  {
   "cell_type": "code",
   "execution_count": 18,
   "metadata": {},
   "outputs": [
    {
     "name": "stdout",
     "output_type": "stream",
     "text": [
      " ! ----------------------------------------------------------------------------\n",
      " ! Satisfiability problem - 48 variables, 60 constraints\n",
      " ! Workers              = 1\n",
      " ! Presolve             = Off\n",
      " ! Initial process time : 0.00s (0.00s extraction + 0.00s propagation)\n",
      " !  . Log search space  : 67.0 (before), 67.0 (after)\n",
      " !  . Memory usage      : 301.4 kB (before), 301.4 kB (after)\n",
      " ! Using sequential search.\n",
      " ! ----------------------------------------------------------------------------\n",
      " !               Branches  Non-fixed            Branch decision\n",
      " *                     43  0.00s                  0  = x_h5_f4\n",
      " ! ----------------------------------------------------------------------------\n",
      " ! Search completed, 1 solution found.\n",
      " ! ----------------------------------------------------------------------------\n",
      " ! Number of branches     : 43\n",
      " ! Number of fails        : 19\n",
      " ! Total memory usage     : 850.1 kB (802.0 kB CP Optimizer + 48.1 kB Concert)\n",
      " ! Time spent in solve    : 0.00s (0.00s engine + 0.00s extraction)\n",
      " ! Search speed (br. / s) : 4300.0\n",
      " ! ----------------------------------------------------------------------------\n",
      "-------------------------------------------------------------------------------\n",
      "Model constraints: 60, variables: integer: 48, interval: 0, sequence: 0\n",
      "Solve status: Feasible\n",
      "Search status: SearchCompleted, stop cause: SearchHasNotBeenStopped\n",
      "Solve time: 0 sec\n",
      "-------------------------------------------------------------------------------\n",
      "Variables:\n",
      "   D_f1 = 0\n",
      "   D_f2 = 0\n",
      "   D_f3 = 2\n",
      "   D_f4 = 1\n",
      "   D_f5 = 5\n",
      "   D_f6 = 4\n",
      "   D_h1 = 0\n",
      "   D_h2 = 3\n",
      "   D_h3 = 1\n",
      "   D_h4 = 0\n",
      "   D_h5 = 4\n",
      "   D_h6 = 0\n",
      "   x_h1_f1 = 1\n",
      "   x_h1_f2 = 0\n",
      "   x_h1_f3 = 0\n",
      "   x_h1_f4 = 0\n",
      "   x_h1_f5 = 0\n",
      "   x_h1_f6 = 0\n",
      "   x_h2_f1 = 0\n",
      "   x_h2_f2 = 1\n",
      "   x_h2_f3 = 0\n",
      "   x_h2_f4 = 0\n",
      "   x_h2_f5 = 0\n",
      "   x_h2_f6 = 0\n",
      "   x_h3_f1 = 0\n",
      "   x_h3_f2 = 0\n",
      "   x_h3_f3 = 0\n",
      "   x_h3_f4 = 1\n",
      "   x_h3_f5 = 0\n",
      "   x_h3_f6 = 0\n",
      "   x_h4_f1 = 0\n",
      "   x_h4_f2 = 0\n",
      "   x_h4_f3 = 0\n",
      "   x_h4_f4 = 0\n",
      "   x_h4_f5 = 0\n",
      "   x_h4_f6 = 1\n",
      "   x_h5_f1 = 0\n",
      "   x_h5_f2 = 0\n",
      "   x_h5_f3 = 0\n",
      "   x_h5_f4 = 0\n",
      "   x_h5_f5 = 1\n",
      "   x_h5_f6 = 0\n",
      "   x_h6_f1 = 0\n",
      "   x_h6_f2 = 0\n",
      "   x_h6_f3 = 1\n",
      "   x_h6_f4 = 0\n",
      "   x_h6_f5 = 0\n",
      "   x_h6_f6 = 0\n"
     ]
    }
   ],
   "source": [
    "solution = mdl.solve()\n",
    "solution.print_solution()\n",
    "\n"
   ]
  },
  {
   "cell_type": "code",
   "execution_count": 22,
   "metadata": {},
   "outputs": [
    {
     "name": "stdout",
     "output_type": "stream",
     "text": [
      "\n",
      " SOLUTION :\n",
      "Mariage entre  h1  et  f1  (Couts =  0 0 )\n",
      "Mariage entre  h2  et  f2  (Couts =  3 0 )\n",
      "Mariage entre  h3  et  f4  (Couts =  1 1 )\n",
      "Mariage entre  h4  et  f6  (Couts =  0 4 )\n",
      "Mariage entre  h5  et  f5  (Couts =  4 5 )\n",
      "Mariage entre  h6  et  f3  (Couts =  0 2 )\n"
     ]
    }
   ],
   "source": [
    "print(\"\\n SOLUTION :\")\n",
    "for h in H:\n",
    "    for f in F:\n",
    "        if(solution[x[h,f]]==1):\n",
    "            print(\"Mariage entre \",h,\" et \",f,\" (Couts = \",LPos[h,f],LPos[f,h],\")\")\n"
   ]
  },
  {
   "cell_type": "code",
   "execution_count": null,
   "metadata": {},
   "outputs": [],
   "source": []
  }
 ],
 "metadata": {
  "kernelspec": {
   "display_name": "cplex",
   "language": "python",
   "name": "python3"
  },
  "language_info": {
   "codemirror_mode": {
    "name": "ipython",
    "version": 3
   },
   "file_extension": ".py",
   "mimetype": "text/x-python",
   "name": "python",
   "nbconvert_exporter": "python",
   "pygments_lexer": "ipython3",
   "version": "3.7.13 (default, Mar 29 2022, 02:18:16) \n[GCC 7.5.0]"
  },
  "orig_nbformat": 4,
  "vscode": {
   "interpreter": {
    "hash": "43f6ff27b895b301ac2494929074ee441da5fd860e28ab36c108cd5fabd96163"
   }
  }
 },
 "nbformat": 4,
 "nbformat_minor": 2
}
