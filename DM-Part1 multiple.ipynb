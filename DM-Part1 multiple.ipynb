{
 "cells": [
  {
   "cell_type": "code",
   "execution_count": 1,
   "metadata": {},
   "outputs": [],
   "source": [
    "from docplex.cp.model import *\n",
    "from docplex.cp.config import get_default"
   ]
  },
  {
   "cell_type": "code",
   "execution_count": 2,
   "metadata": {},
   "outputs": [],
   "source": [
    "from config import setup\n",
    "setup()"
   ]
  },
  {
   "cell_type": "code",
   "execution_count": 3,
   "metadata": {},
   "outputs": [
    {
     "data": {
      "text/plain": [
       "{'h1': ['f1', 'f3', 'f6', 'f2', 'f4', 'f5'],\n",
       " 'h2': ['f4', 'f6', 'f1', 'f2', 'f5', 'f3'],\n",
       " 'h3': ['f1', 'f4', 'f5', 'f3', 'f6', 'f2'],\n",
       " 'h4': ['f6', 'f5', 'f3', 'f4', 'f2', 'f1'],\n",
       " 'h5': ['f2', 'f3', 'f1', 'f4', 'f5', 'f6'],\n",
       " 'h6': ['f3', 'f1', 'f2', 'f6', 'f5', 'f4'],\n",
       " 'f1': ['h1', 'h5', 'h6', 'h3', 'h2', 'h4'],\n",
       " 'f2': ['h2', 'h4', 'h6', 'h1', 'h3', 'h5'],\n",
       " 'f3': ['h4', 'h3', 'h6', 'h2', 'h5', 'h1'],\n",
       " 'f4': ['h1', 'h3', 'h5', 'h4', 'h2', 'h6'],\n",
       " 'f5': ['h3', 'h2', 'h6', 'h1', 'h4', 'h5'],\n",
       " 'f6': ['h5', 'h1', 'h3', 'h6', 'h4', 'h2']}"
      ]
     },
     "execution_count": 3,
     "metadata": {},
     "output_type": "execute_result"
    }
   ],
   "source": [
    "n = 6\n",
    "\n",
    "F = ['f1', 'f2', 'f3', 'f4', 'f5', 'f6']\n",
    "H = ['h1', 'h2', 'h3', 'h4', 'h5', 'h6']\n",
    "L= {}\n",
    "pref_h = [\n",
    "    [1,3,6,2,4,5],\n",
    "    [4,6,1,2,5,3],\n",
    "    [1,4,5,3,6,2],\n",
    "    [6,5,3,4,2,1],\n",
    "    [2,3,1,4,5,6],\n",
    "    [3,1,2,6,5,4],\n",
    "]\n",
    "pref_f = [\n",
    "    [1,5,6,3,2,4],\n",
    "    [2,4,6,1,3,5],\n",
    "    [4,3,6,2,5,1],\n",
    "    [1,3,5,4,2,6],\n",
    "    [3,2,6,1,4,5],\n",
    "    [5,1,3,6,4,2],\n",
    "]\n",
    "for i, hlist in enumerate(pref_h):\n",
    "    L['h'+str(i+1)]=['f'+str(j) for j in hlist]\n",
    "for i, flist in enumerate(pref_f):\n",
    "    L['f'+str(i+1)]=['h'+str(j) for j in flist]\n",
    "\n",
    "\n",
    "mdl = CpoModel(name=\"Mariages\")\n",
    "L"
   ]
  },
  {
   "cell_type": "code",
   "execution_count": 4,
   "metadata": {},
   "outputs": [],
   "source": [
    "#Lpos[h,f] postition de f dans L(h) + position de h dans L(h)\n",
    "LPos = {}\n",
    "for h in H:\n",
    "    for f in F:\n",
    "        LPos[h,f]=L[h].index(f)\n",
    "        LPos[f,h]=L[f].index(h)\n"
   ]
  },
  {
   "cell_type": "code",
   "execution_count": 5,
   "metadata": {},
   "outputs": [],
   "source": [
    "#x[h,f] mariage entre h et f\n",
    "x = {}\n",
    "z = {}\n",
    "for h in H:\n",
    "    for f in F:\n",
    "        x[h,f]=mdl.binary_var(name=\"x_\" + h + \"_\" + f)\n",
    "        z[h,f]=mdl.binary_var(name=\"z_\" + h + \"_\" + f)\n",
    "\n",
    "#y[i] cout du marriage de i (somme des couts du mariage pour les 2 partis) \n",
    "y = {}\n",
    "for i in H+F:\n",
    "    y[i]=mdl.integer_var(0,n-1,name=\"y_\"+i)\n",
    "\n",
    "\n"
   ]
  },
  {
   "cell_type": "code",
   "execution_count": 6,
   "metadata": {},
   "outputs": [],
   "source": [
    "#Ajout des contraintes\n",
    "\n",
    "#Contrainte de monogamie\n",
    "for h in H:\n",
    "    mdl.add(sum([x[h,f] for f in F])==1)\n",
    "for f in F:\n",
    "    mdl.add(sum([x[h,f] for h in H])==1)\n",
    "\n",
    "\n",
    "#Valeur de y (Position du partenaire dans le classement):\n",
    "for h in H:\n",
    "    mdl.add(y[h]==sum([(x[h,f]*LPos[h,f]) for f in F]))\n",
    "for f in F:\n",
    "    mdl.add(y[f]==sum([(x[h,f]*LPos[f,h]) for h in H]))"
   ]
  },
  {
   "cell_type": "code",
   "execution_count": 16,
   "metadata": {},
   "outputs": [],
   "source": [
    "#Couple bloquant =\n",
    "#si (h,f) est un couple bloquant si \n",
    "#   - le partenaire actuel de h et en plus haute postion de preference que f\n",
    "#   - et le partenaire actuel de f et en plus haute postion de preference que h\n",
    "for h in H:\n",
    "    for f in F:\n",
    "        mdl.add(mdl.if_then((y[h]>LPos[h,f]) & (y[f]>LPos[f,h]), z[h,f] == 1))\n",
    "\n",
    "mdl.add(sum(z[h,f] for h in H for f in F)==0)"
   ]
  },
  {
   "cell_type": "code",
   "execution_count": 8,
   "metadata": {},
   "outputs": [],
   "source": [
    "#Couple bloquant =\n",
    "#si (h,f) est un couple bloquant si \n",
    "#   - le partenaire actuel de h et en plus haute postion de preference que f\n",
    "#   - et le partenaire actuel de f et en plus haute postion de preference que h\n",
    "for h in H:\n",
    "    for f in F:\n",
    "        mdl.add((y[h]>LPos[h,f]) & (y[f]>LPos[f,h]) == false())\n",
    "#mdl.add(sum(z[h,f] for h in H for f in F)==0)"
   ]
  },
  {
   "cell_type": "code",
   "execution_count": 9,
   "metadata": {},
   "outputs": [],
   "source": [
    "lsol = mdl.start_search(SearchType=\"DepthFirst\",trace_log=False)\n"
   ]
  },
  {
   "cell_type": "code",
   "execution_count": 10,
   "metadata": {},
   "outputs": [
    {
     "name": "stdout",
     "output_type": "stream",
     "text": [
      "\n",
      "   NOUVELLE SOLUTION :\n",
      "\n",
      "Mariage entre  h1  et  f1  (Couts =  0 0 )\n",
      "Mariage entre  h2  et  f2  (Couts =  3 0 )\n",
      "Mariage entre  h3  et  f4  (Couts =  1 1 )\n",
      "Mariage entre  h4  et  f6  (Couts =  0 4 )\n",
      "Mariage entre  h5  et  f5  (Couts =  4 5 )\n",
      "Mariage entre  h6  et  f3  (Couts =  0 2 )\n",
      "\n",
      "   NOUVELLE SOLUTION :\n",
      "\n",
      "Mariage entre  h1  et  f1  (Couts =  0 0 )\n",
      "Mariage entre  h2  et  f2  (Couts =  3 0 )\n",
      "Mariage entre  h3  et  f4  (Couts =  1 1 )\n",
      "Mariage entre  h4  et  f3  (Couts =  2 0 )\n",
      "Mariage entre  h5  et  f6  (Couts =  5 0 )\n",
      "Mariage entre  h6  et  f5  (Couts =  4 2 )\n",
      "\n",
      "   NOUVELLE SOLUTION :\n",
      "\n",
      "Mariage entre  h1  et  f1  (Couts =  0 0 )\n",
      "Mariage entre  h2  et  f2  (Couts =  3 0 )\n",
      "Mariage entre  h3  et  f4  (Couts =  1 1 )\n",
      "Mariage entre  h4  et  f5  (Couts =  1 4 )\n",
      "Mariage entre  h5  et  f6  (Couts =  5 0 )\n",
      "Mariage entre  h6  et  f3  (Couts =  0 2 )\n"
     ]
    }
   ],
   "source": [
    "#Affichage des solutions:\n",
    "for solution in lsol:\n",
    "    print(\"\\n   NOUVELLE SOLUTION :\\n\")\n",
    "    for h in H:\n",
    "        for f in F:\n",
    "            if(solution[x[h,f]]==1):\n",
    "                print(\"Mariage entre \",h,\" et \",f,\" (Couts = \",LPos[h,f],LPos[f,h],\")\")\n"
   ]
  },
  {
   "cell_type": "code",
   "execution_count": null,
   "metadata": {},
   "outputs": [],
   "source": []
  }
 ],
 "metadata": {
  "kernelspec": {
   "display_name": "cplex",
   "language": "python",
   "name": "python3"
  },
  "language_info": {
   "codemirror_mode": {
    "name": "ipython",
    "version": 3
   },
   "file_extension": ".py",
   "mimetype": "text/x-python",
   "name": "python",
   "nbconvert_exporter": "python",
   "pygments_lexer": "ipython3",
   "version": "3.7.13"
  },
  "orig_nbformat": 4,
  "vscode": {
   "interpreter": {
    "hash": "43f6ff27b895b301ac2494929074ee441da5fd860e28ab36c108cd5fabd96163"
   }
  }
 },
 "nbformat": 4,
 "nbformat_minor": 2
}
