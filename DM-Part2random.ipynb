{
 "cells": [
  {
   "cell_type": "code",
   "execution_count": 58,
   "metadata": {},
   "outputs": [],
   "source": [
    "from docplex.cp.model import *\n",
    "from docplex.cp.config import get_default\n",
    "import random"
   ]
  },
  {
   "cell_type": "code",
   "execution_count": 66,
   "metadata": {},
   "outputs": [],
   "source": [
    "from config import setup\n",
    "setup()"
   ]
  },
  {
   "cell_type": "code",
   "execution_count": 81,
   "metadata": {},
   "outputs": [
    {
     "name": "stdout",
     "output_type": "stream",
     "text": [
      "['f1', 'f2', 'f3', 'f4', 'f5', 'f6', 'f7', 'f8', 'f9', 'f10', 'f11', 'f12', 'f13', 'f14', 'f15', 'f16', 'f17', 'f18', 'f19', 'f20', 'f21', 'f22', 'f23', 'f24', 'f25', 'f26', 'f27', 'f28', 'f29', 'f30', 'f31', 'f32', 'f33', 'f34', 'f35', 'f36', 'f37', 'f38', 'f39', 'f40'] ['h1', 'h2', 'h3', 'h4', 'h5', 'h6', 'h7', 'h8', 'h9', 'h10', 'h11', 'h12', 'h13', 'h14', 'h15', 'h16', 'h17', 'h18', 'h19', 'h20', 'h21', 'h22', 'h23', 'h24', 'h25', 'h26', 'h27', 'h28', 'h29', 'h30', 'h31', 'h32', 'h33', 'h34', 'h35', 'h36', 'h37', 'h38', 'h39', 'h40']\n"
     ]
    }
   ],
   "source": [
    "n = 40\n",
    "\n",
    "F = []\n",
    "H = []\n",
    "for i in range(1,n+1):\n",
    "    F.append('f'+str(i))\n",
    "    H.append('h'+str(i))\n",
    "print(F,H)\n",
    "\n",
    "L= {}\n",
    "for f in F:\n",
    "    pref = list(H)\n",
    "    random.shuffle(pref)\n",
    "    L[f]=pref\n",
    "for h in H:\n",
    "    pref = list(F)\n",
    "    random.shuffle(pref)\n",
    "    L[h]=pref\n",
    "\n",
    "#Lpos[h,f] postition de f dans L(h) + position de h dans L(h)\n",
    "LPos = {}\n",
    "for h in H:\n",
    "    for f in F:\n",
    "        LPos[h,f]=L[h].index(f)\n",
    "        LPos[f,h]=L[f].index(h)"
   ]
  },
  {
   "cell_type": "code",
   "execution_count": 82,
   "metadata": {},
   "outputs": [],
   "source": [
    "\n",
    "mdl = CpoModel(name=\"Mariages\")"
   ]
  },
  {
   "cell_type": "code",
   "execution_count": 83,
   "metadata": {},
   "outputs": [],
   "source": [
    "#x[h,f] mariage entre h et f\n",
    "x = {}\n",
    "z = {}\n",
    "for h in H:\n",
    "    for f in F:\n",
    "        x[h,f]=mdl.binary_var(name=\"x_\" + h + \"_\" + f)\n",
    "        z[h,f]=mdl.binary_var(name=\"z_\" + h + \"_\" + f)\n",
    "\n",
    "#y[i] cout du marriage de i (somme des couts du mariage pour les 2 partis) \n",
    "D = {}\n",
    "for i in H+F:\n",
    "    D[i]=mdl.integer_var(0,n-1,name=\"D_\"+i)\n",
    "\n",
    "\n",
    "#Ajout des contraintes\n",
    "#Contrainte de monogamie\n",
    "for h in H:\n",
    "    mdl.add(sum([x[h,f] for f in F])==1)\n",
    "for f in F:\n",
    "    mdl.add(sum([x[h,f] for h in H])==1)\n",
    "\n",
    "\n",
    "#Valeur de y (Position du partenaire dans le classement):\n",
    "for h in H:\n",
    "    mdl.add(D[h]==sum([(x[h,f]*LPos[h,f]) for f in F]))\n",
    "for f in F:\n",
    "    mdl.add(D[f]==sum([(x[h,f]*LPos[f,h]) for h in H]))\n",
    "\n",
    "#Couple bloquant =\n",
    "#si (h,f) est un couple bloquant si \n",
    "#   - le partenaire actuel de h et en plus haute postion de preference que f\n",
    "#   - et le partenaire actuel de f et en plus haute postion de preference que h\n",
    "for h in H:\n",
    "    for f in F:\n",
    "        mdl.add(mdl.if_then((D[h]>LPos[h,f]) & (D[f]>LPos[f,h]), z[h,f] == 1))\n",
    "mdl.add(sum(z[h,f] for h in H for f in F)==0)\n"
   ]
  },
  {
   "cell_type": "code",
   "execution_count": 84,
   "metadata": {},
   "outputs": [],
   "source": [
    "lsol = mdl.start_search(SearchType=\"DepthFirst\",trace_log=False)\n",
    "\n",
    "#Affichage des solutions:\n",
    "for i, solution in enumerate(lsol):\n",
    "    print(\"\\n   SOLUTION \"+str(i+1)+\" :\\n\")\n",
    "    for h in H:\n",
    "        for f in F:\n",
    "            if(solution[x[h,f]]==1):\n",
    "                print(\"Mariage entre \",h,\" et \",f,\" (Couts = \",LPos[h,f],LPos[f,h],\")\")\n"
   ]
  },
  {
   "cell_type": "code",
   "execution_count": null,
   "metadata": {},
   "outputs": [
    {
     "name": "stdout",
     "output_type": "stream",
     "text": [
      "\n",
      "   SOLUTION :\n",
      "\n",
      "Mariage entre  h1  et  f11  (Couts =  1 0 )\n",
      "Mariage entre  h2  et  f12  (Couts =  4 1 )\n",
      "Mariage entre  h3  et  f16  (Couts =  0 1 )\n",
      "Mariage entre  h4  et  f3  (Couts =  3 7 )\n",
      "Mariage entre  h5  et  f14  (Couts =  2 5 )\n",
      "Mariage entre  h6  et  f15  (Couts =  0 0 )\n",
      "Mariage entre  h7  et  f6  (Couts =  2 4 )\n",
      "Mariage entre  h8  et  f2  (Couts =  3 7 )\n",
      "Mariage entre  h9  et  f18  (Couts =  9 8 )\n",
      "Mariage entre  h10  et  f4  (Couts =  0 2 )\n",
      "Mariage entre  h11  et  f13  (Couts =  3 1 )\n",
      "Mariage entre  h12  et  f9  (Couts =  1 2 )\n",
      "Mariage entre  h13  et  f20  (Couts =  2 6 )\n",
      "Mariage entre  h14  et  f8  (Couts =  6 1 )\n",
      "Mariage entre  h15  et  f10  (Couts =  0 5 )\n",
      "Mariage entre  h16  et  f1  (Couts =  1 1 )\n",
      "Mariage entre  h17  et  f7  (Couts =  7 4 )\n",
      "Mariage entre  h18  et  f17  (Couts =  1 1 )\n",
      "Mariage entre  h19  et  f19  (Couts =  0 2 )\n",
      "Mariage entre  h20  et  f5  (Couts =  0 0 )\n",
      "\n",
      "DF =  8\n",
      "DH =  9\n"
     ]
    }
   ],
   "source": [
    "#Partie2\n",
    "DH = mdl.integer_var(name=\"DH\")\n",
    "DF = mdl.integer_var(name=\"DF\")\n",
    "\n",
    "mdl.add(DH==max([D[h] for h in H]))\n",
    "mdl.add(DF==max([D[f] for f in F]))\n",
    "mdl.add(minimize(abs(DH-DF)))\n",
    "\n",
    "solution = mdl.solve(trace_log=False)\n",
    "\n",
    "print(\"\\n   SOLUTION :\\n\")\n",
    "for h in H:\n",
    "    for f in F:\n",
    "        if(solution[x[h,f]]==1):\n",
    "            print(\"Mariage entre \",h,\" et \",f,\" (Couts = \",LPos[h,f],LPos[f,h],\")\")\n",
    "\n",
    "print(\"\\nDF = \",solution[DF])\n",
    "print(\"DH = \",solution[DH])\n",
    "\n"
   ]
  },
  {
   "cell_type": "code",
   "execution_count": null,
   "metadata": {},
   "outputs": [],
   "source": []
  },
  {
   "cell_type": "code",
   "execution_count": null,
   "metadata": {},
   "outputs": [],
   "source": []
  }
 ],
 "metadata": {
  "kernelspec": {
   "display_name": "cplex",
   "language": "python",
   "name": "python3"
  },
  "language_info": {
   "codemirror_mode": {
    "name": "ipython",
    "version": 3
   },
   "file_extension": ".py",
   "mimetype": "text/x-python",
   "name": "python",
   "nbconvert_exporter": "python",
   "pygments_lexer": "ipython3",
   "version": "3.7.13"
  },
  "orig_nbformat": 4,
  "vscode": {
   "interpreter": {
    "hash": "43f6ff27b895b301ac2494929074ee441da5fd860e28ab36c108cd5fabd96163"
   }
  }
 },
 "nbformat": 4,
 "nbformat_minor": 2
}
